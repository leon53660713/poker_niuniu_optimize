{
 "cells": [
  {
   "cell_type": "markdown",
   "id": "82822cee",
   "metadata": {},
   "source": [
    "# 妞妞\n",
    "過年跟親戚打牌學會玩這個遊戲 <br>\n",
    "希望能先藉由簡單的模擬來增加自己的贏面 <br>\n",
    "這部分完成後希望能引入機器學習(GAN)之類的方法完善此模型 <br>"
   ]
  },
  {
   "cell_type": "markdown",
   "id": "bcd7cedc",
   "metadata": {},
   "source": [
    "# import package"
   ]
  },
  {
   "cell_type": "code",
   "execution_count": 1,
   "id": "05852796",
   "metadata": {
    "ExecuteTime": {
     "end_time": "2025-02-15T13:31:41.744855Z",
     "start_time": "2025-02-15T13:31:41.297105Z"
    },
    "code_folding": []
   },
   "outputs": [],
   "source": [
    "# import package\n",
    "import itertools\n",
    "import pandas as pd\n",
    "import random\n",
    "from collections import Counter"
   ]
  },
  {
   "cell_type": "markdown",
   "id": "34f75023",
   "metadata": {},
   "source": [
    "# 生成一副撲克牌"
   ]
  },
  {
   "cell_type": "code",
   "execution_count": 2,
   "id": "28067313",
   "metadata": {
    "ExecuteTime": {
     "end_time": "2025-02-15T13:25:05.167413Z",
     "start_time": "2025-02-15T13:25:05.159896Z"
    }
   },
   "outputs": [],
   "source": [
    "# def poker with rank & suit\n",
    "suits = ['spade', 'heart', 'diamond', 'club']\n",
    "ranks = ['A'] + [str(i) for i in range(2, 11)] + ['J', 'Q', 'K']\n",
    "\n",
    "# generate a poker deck\n",
    "deck = [(suit, rank) for suit in suits for rank in ranks]"
   ]
  },
  {
   "cell_type": "markdown",
   "id": "47d2f7cf",
   "metadata": {},
   "source": [
    "# 轉換牌 & 排序大小"
   ]
  },
  {
   "cell_type": "markdown",
   "id": "549de855",
   "metadata": {},
   "source": [
    "## 點數"
   ]
  },
  {
   "cell_type": "code",
   "execution_count": 3,
   "id": "dc6462d6",
   "metadata": {
    "ExecuteTime": {
     "end_time": "2025-02-15T13:25:05.824447Z",
     "start_time": "2025-02-15T13:25:05.812921Z"
    }
   },
   "outputs": [],
   "source": [
    "# get card value\n",
    "def card_value(card):\n",
    "    # J, Q, K == 10\n",
    "    # A == 1\n",
    "    rank = card[1]\n",
    "    return 10 if rank in ['J', 'Q', 'K'] else (1 if rank == 'A' else int(rank))\n",
    "\n",
    "# get card rank\n",
    "def get_card_rank(card):\n",
    "    rank_order = {'2': 2, '3': 3, '4': 4, '5': 5, '6': 6, '7': 7, '8': 8, '9': 9, '10': 10,\n",
    "                  'J': 11, 'Q': 12, 'K': 13, 'A': 1}\n",
    "    return rank_order[card[1]]\n"
   ]
  },
  {
   "cell_type": "markdown",
   "id": "fdc983df",
   "metadata": {},
   "source": [
    "## 花色"
   ]
  },
  {
   "cell_type": "code",
   "execution_count": 4,
   "id": "071c3972",
   "metadata": {
    "ExecuteTime": {
     "end_time": "2025-02-15T13:25:06.352243Z",
     "start_time": "2025-02-15T13:25:06.338005Z"
    }
   },
   "outputs": [],
   "source": [
    "# get suit rank\n",
    "def get_suit_rank(card):\n",
    "    suit_order = {'spade': 4, 'heart': 3, 'diamond': 2, 'club': 1}\n",
    "    return suit_order[card[0]]"
   ]
  },
  {
   "cell_type": "markdown",
   "id": "787b2b70",
   "metadata": {},
   "source": [
    "# 計算 5 張牌的牌型"
   ]
  },
  {
   "cell_type": "code",
   "execution_count": 7,
   "id": "9bb2ba03",
   "metadata": {
    "ExecuteTime": {
     "end_time": "2025-02-15T13:25:06.630804Z",
     "start_time": "2025-02-15T13:25:06.621796Z"
    }
   },
   "outputs": [],
   "source": [
    "# caculate fix 5 card type\n",
    "def calculate_niu(cards):\n",
    "    # compare value rank then suit rank\n",
    "    cards_value = [card_value(card) for card in cards]\n",
    "\n",
    "    # sepcial card type\n",
    "    if all(card[1] in ['J', 'Q', 'K'] for card in cards):\n",
    "        return '五公'\n",
    "    if all(v < 5 for v in cards_value) and sum(cards_value) == 10:\n",
    "        return '五小牛'\n",
    "    if sum(1 for card in cards if card[1] in ['J', 'Q', 'K']) == 4 and any(card[1] == '10' for card in cards):\n",
    "        return '四花牛'\n",
    "\n",
    "    # normal card type\n",
    "    for combo in itertools.combinations(cards_value, 3):\n",
    "        if sum(combo) % 10 == 0:\n",
    "            remaining = [v for v in cards_value if v not in combo][:2]\n",
    "            if sum(remaining) % 10 == 0:\n",
    "                return '牛牛'\n",
    "            else:\n",
    "                return f'牛{sum(remaining) % 10}'\n",
    "\n",
    "    # check J, Q, K\n",
    "    return '有公無牛' if any(card[1] in ['J', 'Q', 'K'] for card in cards) else '無公無牛'\n"
   ]
  },
  {
   "cell_type": "markdown",
   "id": "f8b81832",
   "metadata": {},
   "source": [
    "## 確認目前為止是否正確\n",
    "1. 是否可以得到正確的牌型 <br>\n",
    "測試出幾乎所有的情況"
   ]
  },
  {
   "cell_type": "code",
   "execution_count": 8,
   "id": "e75b3ee7",
   "metadata": {
    "ExecuteTime": {
     "end_time": "2025-02-15T13:25:07.330653Z",
     "start_time": "2025-02-15T13:25:07.317850Z"
    }
   },
   "outputs": [
    {
     "name": "stdout",
     "output_type": "stream",
     "text": [
      "五小牛\n",
      "牛1\n",
      "五公\n",
      "四花牛\n",
      "有公無牛\n",
      "無公無牛\n",
      "牛牛\n",
      "牛9\n",
      "牛8\n",
      "牛7\n",
      "牛5\n"
     ]
    }
   ],
   "source": [
    "# hands\n",
    "hand1 = [('spade', 'A'), ('heart', '2'), ('diamond', '3'), ('club', '2'), ('spade', '2')]\n",
    "hand2 = [('spade', 'A'), ('heart', '2'), ('diamond', '3'), ('club', '2'), ('spade', '5')]\n",
    "hand3 = [('spade', 'J'), ('heart', 'Q'), ('diamond', 'K'), ('club', 'J'), ('spade', 'Q')]\n",
    "hand4 = [('spade', 'J'), ('heart', 'Q'), ('diamond', 'K'), ('club', 'J'), ('spade', '10')]\n",
    "hand5 = [('spade', 'J'), ('heart', 'Q'), ('diamond', 'A'), ('club', '5'), ('spade', '8')]\n",
    "hand6 = [('spade', 'A'), ('heart', '2'), ('diamond', '3'), ('club', '8'), ('spade', '3')]\n",
    "hand7 = [('spade', 'J'), ('heart', 'Q'), ('diamond', '10'), ('club', 'J'), ('spade', '10')]\n",
    "hand8 = [('spade', 'J'), ('heart', 'Q'), ('diamond', '10'), ('club', 'J'), ('spade', '9')]\n",
    "hand9 = [('spade', 'J'), ('heart', 'Q'), ('diamond', '10'), ('club', 'J'), ('spade', '8')]\n",
    "hand10 = [('spade', 'J'), ('heart', 'Q'), ('diamond', '10'), ('club', 'J'), ('spade', '7')]\n",
    "hand11 = [('spade', 'J'), ('heart', 'Q'), ('diamond', '10'), ('club', 'J'), ('spade', '5')]\n",
    "\n",
    "# result\n",
    "print(calculate_niu(hand1))\n",
    "print(calculate_niu(hand2))\n",
    "print(calculate_niu(hand3))\n",
    "print(calculate_niu(hand4))\n",
    "print(calculate_niu(hand5))\n",
    "print(calculate_niu(hand6))\n",
    "print(calculate_niu(hand7))\n",
    "print(calculate_niu(hand8))\n",
    "print(calculate_niu(hand9))\n",
    "print(calculate_niu(hand10))\n",
    "print(calculate_niu(hand11))\n"
   ]
  },
  {
   "cell_type": "markdown",
   "id": "0fadd241",
   "metadata": {},
   "source": [
    "# 模擬牌型出現機率"
   ]
  },
  {
   "cell_type": "code",
   "execution_count": 25,
   "id": "28081e01",
   "metadata": {
    "ExecuteTime": {
     "end_time": "2025-02-18T07:14:03.020620Z",
     "start_time": "2025-02-18T07:14:03.005582Z"
    }
   },
   "outputs": [],
   "source": [
    "# def simulate card type rate\n",
    "def simulate_cardtype_rate(hand, num_simulations=500000):\n",
    "    # generate poker deck\n",
    "    suits = ['spade', 'heart', 'diamond', 'club']\n",
    "    ranks = [str(i) for i in range(2, 11)] + ['J', 'Q', 'K', 'A']\n",
    "    deck = [(suit, rank) for suit in suits for rank in ranks]\n",
    "\n",
    "    # remove cards already in hand\n",
    "    for card in hand:\n",
    "        deck.remove(card)\n",
    "\n",
    "    results = Counter()\n",
    "    for _ in range(num_simulations):\n",
    "        # random choose a card\n",
    "        remaining_card = random.choice(deck)\n",
    "        final_hand = hand + [remaining_card]\n",
    "        # only want to know card type\n",
    "        card_type = calculate_niu(final_hand)\n",
    "        results[card_type] += 1\n",
    "\n",
    "    total = sum(results.values())\n",
    "    probabilities = {k: v / total for k, v in results.items()}\n",
    "    sorted_probabilities = dict(sorted(probabilities.items(), key=lambda item: item[1], reverse=True))\n",
    "    return sorted_probabilities\n"
   ]
  },
  {
   "cell_type": "markdown",
   "id": "44639472",
   "metadata": {},
   "source": [
    "## 確認機率情況"
   ]
  },
  {
   "cell_type": "code",
   "execution_count": 26,
   "id": "4ca1327d",
   "metadata": {
    "ExecuteTime": {
     "end_time": "2025-02-18T07:14:05.592973Z",
     "start_time": "2025-02-18T07:14:03.681369Z"
    }
   },
   "outputs": [
    {
     "data": {
      "text/plain": [
       "{'有公無牛': 0.45794,\n",
       " '牛5': 0.291704,\n",
       " '牛牛': 0.08359,\n",
       " '牛3': 0.083494,\n",
       " '牛2': 0.083272}"
      ]
     },
     "execution_count": 26,
     "metadata": {},
     "output_type": "execute_result"
    }
   ],
   "source": [
    "hand1 = [('spade', 'J'), ('heart', 'Q'), ('diamond', '3'), ('club', '2')]\n",
    "simulate_cardtype_rate(hand1)"
   ]
  },
  {
   "cell_type": "markdown",
   "id": "e94bb1b3",
   "metadata": {},
   "source": [
    "# 如果牌型一樣時會需要比較最高張\n",
    "比較手牌最高張"
   ]
  },
  {
   "cell_type": "code",
   "execution_count": null,
   "id": "0502d8e4",
   "metadata": {},
   "outputs": [],
   "source": [
    "# only compare the highest card\n",
    "# return who win\n",
    "def compare_highest_card(player_hand, banker_hand):\n",
    "    player_hand_sorted = sorted(player_hand, key=lambda x: (get_card_rank(x), get_suit_rank(x)), reverse=True)\n",
    "    banker_hand_sorted = sorted(banker_hand, key=lambda x: (get_card_rank(x), get_suit_rank(x)), reverse=True)\n",
    "    \n",
    "    player_max_card = player_hand_sorted[0]\n",
    "    banker_max_card = banker_hand_sorted[0]\n",
    "\n",
    "    if get_card_rank(player_max_card) > get_card_rank(banker_max_card):\n",
    "        return \"player\"\n",
    "    elif get_card_rank(player_max_card) < get_card_rank(banker_max_card):\n",
    "        return \"banker\"\n",
    "    else:\n",
    "        if get_suit_rank(player_max_card) > get_suit_rank(banker_max_card):\n",
    "            return \"player\"\n",
    "        else:\n",
    "            return \"banker\""
   ]
  },
  {
   "cell_type": "markdown",
   "id": "f84f7220",
   "metadata": {},
   "source": [
    "# 結算金額"
   ]
  },
  {
   "cell_type": "code",
   "execution_count": null,
   "id": "7dacd089",
   "metadata": {},
   "outputs": [],
   "source": [
    "# caculate payout\n",
    "def calculate_payout(player_hand, banker_hand):\n",
    "    \"\"\"根據玩家和莊家的手牌計算賠率\"\"\"\n",
    "\n",
    "    if len(set(player_hand)) != len(player_hand):\n",
    "        return \"錯誤：玩家手牌有重複的牌！\"\n",
    "    if len(set(banker_hand)) != len(banker_hand):\n",
    "        return \"錯誤：莊家手牌有重複的牌！\"\n",
    "    combined_hand = player_hand + banker_hand\n",
    "    if len(set(combined_hand)) != len(combined_hand):\n",
    "        return \"錯誤：玩家與莊家有相同的牌！\"\n",
    "\n",
    "\n",
    "    # def hand's rank\n",
    "    rank_order = {\n",
    "        '五小牛': 15, '五公': 14, '四花牛': 13, '牛牛': 12, '牛9': 11, '牛8': 10,\n",
    "        '牛7': 9, '牛6': 8, '牛5': 7, '牛4': 6, '牛3': 5, '牛2': 4, '牛1': 3,\n",
    "        '有公無牛': 2, '無公無牛': 1\n",
    "    }\n",
    "\n",
    "    # def payout of hand\n",
    "    rank_mult = {\n",
    "        '五小牛': 6, '五公': 5, '四花牛': 4, '牛牛': 3, '牛9': 2, '牛8': 2,\n",
    "        '牛7': 2, '牛6': 1, '牛5': 1, '牛4': 1, '牛3': 1, '牛2': 1, '牛1': 1,\n",
    "        '有公無牛': 1, '無公無牛': 2\n",
    "    }\n",
    "\n",
    "    # get player & banker hand\n",
    "    player_type = calculate_niu(player_hand)\n",
    "    banker_type = calculate_niu(banker_hand)\n",
    "\n",
    "    player_rank = rank_order[player_type]\n",
    "    banker_rank = rank_order[banker_type]\n",
    "    player_mult = rank_mult[player_type]\n",
    "    banker_mult = rank_mult[banker_type]\n",
    "\n",
    "    # compare hand rank\n",
    "    if player_rank > banker_rank:\n",
    "        multiplier = player_mult if banker_type != '無公無牛' else player_mult * 2\n",
    "        return f\"玩家贏，賠率為 {multiplier} 倍\"\n",
    "    \n",
    "    elif player_rank < banker_rank:\n",
    "        multiplier = -banker_mult if player_type != '無公無牛' else -banker_mult * 2\n",
    "        return f\"玩家輸，賠率為 {multiplier} 倍\"\n",
    "\n",
    "    # if same hand, compare max card\n",
    "    player_max_card = max(player_hand, key=lambda x: (get_card_rank(x), get_suit_rank(x)))\n",
    "    banker_max_card = max(banker_hand, key=lambda x: (get_card_rank(x), get_suit_rank(x)))\n",
    "\n",
    "    if get_card_rank(player_max_card) > get_card_rank(banker_max_card):\n",
    "        return f\"玩家贏，賠率為 {player_mult} 倍\"\n",
    "    elif get_card_rank(player_max_card) < get_card_rank(banker_max_card):\n",
    "        return f\"玩家輸，賠率為 {-banker_mult} 倍\"\n",
    "\n",
    "    # if same card num, compare suit rank\n",
    "    if get_suit_rank(player_max_card) > get_suit_rank(banker_max_card):\n",
    "        return f\"玩家贏，賠率為 {player_mult} 倍\"\n",
    "    else:\n",
    "        return f\"玩家輸，賠率為 {-banker_mult} 倍\"\n"
   ]
  },
  {
   "cell_type": "markdown",
   "id": "65ccb2b2",
   "metadata": {},
   "source": [
    "## 確認其中的一些情況"
   ]
  },
  {
   "cell_type": "code",
   "execution_count": 32,
   "id": "05117344",
   "metadata": {},
   "outputs": [
    {
     "name": "stdout",
     "output_type": "stream",
     "text": [
      "玩家輸，賠率為 -1 倍\n",
      "玩家輸，賠率為 -2 倍\n",
      "玩家輸，賠率為 -3 倍\n",
      "玩家輸，賠率為 -4 倍\n",
      "玩家贏，賠率為 1 倍\n",
      "錯誤：玩家手牌有重複的牌！\n",
      "錯誤：玩家手牌有重複的牌！\n",
      "錯誤：玩家與莊家有相同的牌！\n"
     ]
    }
   ],
   "source": [
    "# banker wins\n",
    "## normal\n",
    "player_hand = [('heart', '9'), ('diamond', 'J'), ('club', '3'), ('spade', '6'), ('heart', '2')]\n",
    "banker_hand = [('spade', '10'), ('club', 'J'), ('heart', '4'), ('diamond', '6'), ('diamond', '2')]\n",
    "print(calculate_payout(player_hand, banker_hand))\n",
    "\n",
    "## banker have double\n",
    "player_hand = [('heart', '9'), ('diamond', 'J'), ('club', '3'), ('spade', '6'), ('heart', '2')]\n",
    "banker_hand = [('spade', '10'), ('club', 'J'), ('heart', '4'), ('diamond', '6'), ('diamond', '7')]\n",
    "print(calculate_payout(player_hand, banker_hand))\n",
    "\n",
    "## banker have niuniu\n",
    "player_hand = [('heart', '9'), ('diamond', 'J'), ('club', '3'), ('spade', '6'), ('heart', '2')]\n",
    "banker_hand = [('spade', '10'), ('club', 'J'), ('heart', '4'), ('diamond', '6'), ('diamond', '4')]\n",
    "print(calculate_payout(player_hand, banker_hand))\n",
    "\n",
    "## player have nothing\n",
    "player_hand = [('heart', '9'), ('diamond', '3'), ('club', '3'), ('spade', '6'), ('heart', '2')]\n",
    "banker_hand = [('spade', '10'), ('club', 'J'), ('heart', '4'), ('diamond', '6'), ('diamond', '7')]\n",
    "print(calculate_payout(player_hand, banker_hand))\n",
    "\n",
    "# banker wins\n",
    "## normal\n",
    "player_hand = [('spade', '10'), ('club', 'J'), ('heart', '4'), ('diamond', '6'), ('diamond', '2')]\n",
    "banker_hand = [('heart', '9'), ('diamond', 'J'), ('club', '3'), ('spade', '6'), ('heart', '2')]\n",
    "print(calculate_payout(player_hand, banker_hand))\n",
    "\n",
    "# error\n",
    "# for player have same card, raise error\n",
    "player_hand = [('heart', '9'), ('diamond', 'J'), ('club', '3'), ('spade', '6'), ('heart', '9')]\n",
    "print(calculate_payout(player_hand, banker_hand))\n",
    "\n",
    "# for banker have same card, raise error\n",
    "banker_hand = [('spade', '10'), ('club', 'J'), ('heart', '4'), ('diamond', '6'), ('spade', '10')]\n",
    "print(calculate_payout(player_hand, banker_hand))\n",
    "\n",
    "# for banker & player have same card, raise error\n",
    "player_hand = [('heart', '9'), ('diamond', 'J'), ('club', '3'), ('spade', '6'), ('heart', '2')]\n",
    "banker_hand = [('spade', '10'), ('club', 'J'), ('heart', '4'), ('diamond', '6'), ('heart', '9')]\n",
    "print(calculate_payout(player_hand, banker_hand))\n"
   ]
  },
  {
   "cell_type": "code",
   "execution_count": null,
   "id": "17f0a6a0",
   "metadata": {},
   "outputs": [],
   "source": []
  },
  {
   "cell_type": "code",
   "execution_count": null,
   "id": "1aa2faec",
   "metadata": {},
   "outputs": [],
   "source": []
  },
  {
   "cell_type": "code",
   "execution_count": null,
   "id": "df59a7e5",
   "metadata": {},
   "outputs": [],
   "source": []
  },
  {
   "cell_type": "code",
   "execution_count": null,
   "id": "7037ee44",
   "metadata": {},
   "outputs": [],
   "source": []
  },
  {
   "cell_type": "code",
   "execution_count": null,
   "id": "4d0448c7",
   "metadata": {},
   "outputs": [],
   "source": []
  },
  {
   "cell_type": "code",
   "execution_count": null,
   "id": "767a2204",
   "metadata": {},
   "outputs": [],
   "source": []
  },
  {
   "cell_type": "markdown",
   "id": "4d94bde8",
   "metadata": {},
   "source": [
    "# 進行預估(單純自己手牌)\n",
    "只預測是否下大注"
   ]
  },
  {
   "cell_type": "markdown",
   "id": "9e19007e",
   "metadata": {},
   "source": [
    "# 實際操作"
   ]
  },
  {
   "cell_type": "code",
   "execution_count": null,
   "id": "dc84ebca",
   "metadata": {},
   "outputs": [],
   "source": []
  },
  {
   "cell_type": "code",
   "execution_count": null,
   "id": "5490ec1d",
   "metadata": {},
   "outputs": [],
   "source": []
  },
  {
   "cell_type": "code",
   "execution_count": null,
   "id": "b7c40844",
   "metadata": {},
   "outputs": [],
   "source": []
  }
 ],
 "metadata": {
  "kernelspec": {
   "display_name": "base",
   "language": "python",
   "name": "python3"
  },
  "language_info": {
   "codemirror_mode": {
    "name": "ipython",
    "version": 3
   },
   "file_extension": ".py",
   "mimetype": "text/x-python",
   "name": "python",
   "nbconvert_exporter": "python",
   "pygments_lexer": "ipython3",
   "version": "3.9.12"
  },
  "latex_envs": {
   "LaTeX_envs_menu_present": true,
   "autoclose": false,
   "autocomplete": true,
   "bibliofile": "biblio.bib",
   "cite_by": "apalike",
   "current_citInitial": 1,
   "eqLabelWithNumbers": true,
   "eqNumInitial": 1,
   "hotkeys": {
    "equation": "Ctrl-E",
    "itemize": "Ctrl-I"
   },
   "labels_anchors": false,
   "latex_user_defs": false,
   "report_style_numbering": false,
   "user_envs_cfg": false
  },
  "toc": {
   "base_numbering": 1,
   "nav_menu": {},
   "number_sections": true,
   "sideBar": true,
   "skip_h1_title": false,
   "title_cell": "Table of Contents",
   "title_sidebar": "Contents",
   "toc_cell": false,
   "toc_position": {},
   "toc_section_display": true,
   "toc_window_display": true
  },
  "varInspector": {
   "cols": {
    "lenName": 16,
    "lenType": 16,
    "lenVar": 40
   },
   "kernels_config": {
    "python": {
     "delete_cmd_postfix": "",
     "delete_cmd_prefix": "del ",
     "library": "var_list.py",
     "varRefreshCmd": "print(var_dic_list())"
    },
    "r": {
     "delete_cmd_postfix": ") ",
     "delete_cmd_prefix": "rm(",
     "library": "var_list.r",
     "varRefreshCmd": "cat(var_dic_list()) "
    }
   },
   "types_to_exclude": [
    "module",
    "function",
    "builtin_function_or_method",
    "instance",
    "_Feature"
   ],
   "window_display": false
  }
 },
 "nbformat": 4,
 "nbformat_minor": 5
}
