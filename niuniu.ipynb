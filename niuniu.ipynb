{
 "cells": [
  {
   "cell_type": "markdown",
   "id": "82822cee",
   "metadata": {},
   "source": [
    "# 妞妞"
   ]
  },
  {
   "cell_type": "markdown",
   "id": "bcd7cedc",
   "metadata": {},
   "source": [
    "# import package"
   ]
  },
  {
   "cell_type": "code",
   "execution_count": 10,
   "id": "05852796",
   "metadata": {
    "ExecuteTime": {
     "end_time": "2025-02-15T13:31:41.744855Z",
     "start_time": "2025-02-15T13:31:41.297105Z"
    },
    "code_folding": []
   },
   "outputs": [],
   "source": [
    "# import package\n",
    "import itertools\n",
    "import pandas as pd\n",
    "import random\n",
    "from collections import Counter"
   ]
  },
  {
   "cell_type": "markdown",
   "id": "34f75023",
   "metadata": {},
   "source": [
    "# 生成一副撲克牌"
   ]
  },
  {
   "cell_type": "code",
   "execution_count": 2,
   "id": "28067313",
   "metadata": {
    "ExecuteTime": {
     "end_time": "2025-02-15T13:25:05.167413Z",
     "start_time": "2025-02-15T13:25:05.159896Z"
    }
   },
   "outputs": [],
   "source": [
    "# def poker with rank & suit\n",
    "suits = ['spade', 'heart', 'diamond', 'club']\n",
    "ranks = ['A'] + [str(i) for i in range(2, 11)] + ['J', 'Q', 'K']\n",
    "\n",
    "# generate a poker deck\n",
    "deck = [(suit, rank) for suit in suits for rank in ranks]"
   ]
  },
  {
   "cell_type": "markdown",
   "id": "47d2f7cf",
   "metadata": {},
   "source": [
    "# 轉換牌 & 排序大小"
   ]
  },
  {
   "cell_type": "markdown",
   "id": "549de855",
   "metadata": {},
   "source": [
    "## 點數"
   ]
  },
  {
   "cell_type": "code",
   "execution_count": 3,
   "id": "dc6462d6",
   "metadata": {
    "ExecuteTime": {
     "end_time": "2025-02-15T13:25:05.824447Z",
     "start_time": "2025-02-15T13:25:05.812921Z"
    }
   },
   "outputs": [],
   "source": [
    "# get card value\n",
    "def card_value(card):\n",
    "    # J, Q, K == 10\n",
    "    # A == 1\n",
    "    rank = card[1]\n",
    "    return 10 if rank in ['J', 'Q', 'K'] else (1 if rank == 'A' else int(rank))\n",
    "\n",
    "# get rank\n",
    "def card_rank(card):\n",
    "    rank_order = {str(i): i for i in range(2, 11)}\n",
    "    rank_order.update({'J': 11, 'Q': 12, 'K': 13, 'A': 1})\n",
    "    return rank_order[card[1]]"
   ]
  },
  {
   "cell_type": "markdown",
   "id": "fdc983df",
   "metadata": {},
   "source": [
    "## 花色"
   ]
  },
  {
   "cell_type": "code",
   "execution_count": 4,
   "id": "071c3972",
   "metadata": {
    "ExecuteTime": {
     "end_time": "2025-02-15T13:25:06.352243Z",
     "start_time": "2025-02-15T13:25:06.338005Z"
    }
   },
   "outputs": [],
   "source": [
    "# get suit value\n",
    "def card_suit_value(card):\n",
    "    suit_order = {'spade': 4, 'heart': 3, 'diamond': 2, 'club': 1}\n",
    "    return suit_order[card[0]]"
   ]
  },
  {
   "cell_type": "markdown",
   "id": "787b2b70",
   "metadata": {},
   "source": [
    "# 計算 5 張牌的牌型"
   ]
  },
  {
   "cell_type": "code",
   "execution_count": 5,
   "id": "9bb2ba03",
   "metadata": {
    "ExecuteTime": {
     "end_time": "2025-02-15T13:25:06.630804Z",
     "start_time": "2025-02-15T13:25:06.621796Z"
    }
   },
   "outputs": [],
   "source": [
    "# caculate fix 5 card type\n",
    "def calculate_niu(cards):\n",
    "    # compare value rank then suit rank\n",
    "    cards_value = [card_value(card) for card in cards]\n",
    "    cards.sort(key=lambda x: (card_rank(x), card_suit_value(x)), reverse=True)\n",
    "\n",
    "    # sepcial card type\n",
    "    if all(card[1] in ['J', 'Q', 'K'] for card in cards):\n",
    "        return '五公', 5\n",
    "    if all(v < 5 for v in cards_value) and sum(cards_value) == 10:\n",
    "        return '五小牛', 6\n",
    "    if sum(1 for card in cards if card[1] in ['J', 'Q', 'K']) == 4 and any(card[1] == '10' for card in cards):\n",
    "        return '四花牛', 4\n",
    "\n",
    "    # normal card type\n",
    "    for combo in itertools.combinations(cards_value, 3):\n",
    "        if sum(combo) % 10 == 0:\n",
    "            remaining = [v for v in cards_value if v not in combo][:2]\n",
    "            if sum(remaining) % 10 == 0:\n",
    "                return '牛牛', 3\n",
    "            else:\n",
    "                remaining_score = sum(remaining) % 10\n",
    "                if remaining_score >= 7:\n",
    "                    return f'牛{remaining_score}', 2\n",
    "                elif remaining_score > 0:\n",
    "                    return f'牛{remaining_score}', 1\n",
    "\n",
    "    # check J, Q, K\n",
    "    has_face_card = any(card[1] in ['J', 'Q', 'K'] for card in cards)\n",
    "    if has_face_card:\n",
    "        return '有公無牛', 1\n",
    "    else:\n",
    "        return '無公無牛', -2\n"
   ]
  },
  {
   "cell_type": "markdown",
   "id": "f8b81832",
   "metadata": {},
   "source": [
    "## 確認目前為止是否正確\n",
    "1. 是否可以得到正確的牌型 <br>\n",
    "測試出幾乎所有的情況"
   ]
  },
  {
   "cell_type": "code",
   "execution_count": 6,
   "id": "e75b3ee7",
   "metadata": {
    "ExecuteTime": {
     "end_time": "2025-02-15T13:25:07.330653Z",
     "start_time": "2025-02-15T13:25:07.317850Z"
    }
   },
   "outputs": [
    {
     "name": "stdout",
     "output_type": "stream",
     "text": [
      "('五小牛', 6)\n",
      "('牛1', 1)\n",
      "('五公', 5)\n",
      "('四花牛', 4)\n",
      "('有公無牛', 1)\n",
      "('無公無牛', -2)\n",
      "('牛牛', 3)\n",
      "('牛9', 2)\n",
      "('牛8', 2)\n",
      "('牛7', 2)\n",
      "('牛5', 1)\n"
     ]
    }
   ],
   "source": [
    "# hands\n",
    "hand1 = [('spade', 'A'), ('heart', '2'), ('diamond', '3'), ('club', '2'), ('spade', '2')]\n",
    "hand2 = [('spade', 'A'), ('heart', '2'), ('diamond', '3'), ('club', '2'), ('spade', '5')]\n",
    "hand3 = [('spade', 'J'), ('heart', 'Q'), ('diamond', 'K'), ('club', 'J'), ('spade', 'Q')]\n",
    "hand4 = [('spade', 'J'), ('heart', 'Q'), ('diamond', 'K'), ('club', 'J'), ('spade', '10')]\n",
    "hand5 = [('spade', 'J'), ('heart', 'Q'), ('diamond', 'A'), ('club', '5'), ('spade', '8')]\n",
    "hand6 = [('spade', 'A'), ('heart', '2'), ('diamond', '3'), ('club', '8'), ('spade', '3')]\n",
    "hand7 = [('spade', 'J'), ('heart', 'Q'), ('diamond', '10'), ('club', 'J'), ('spade', '10')]\n",
    "hand8 = [('spade', 'J'), ('heart', 'Q'), ('diamond', '10'), ('club', 'J'), ('spade', '9')]\n",
    "hand9 = [('spade', 'J'), ('heart', 'Q'), ('diamond', '10'), ('club', 'J'), ('spade', '8')]\n",
    "hand10 = [('spade', 'J'), ('heart', 'Q'), ('diamond', '10'), ('club', 'J'), ('spade', '7')]\n",
    "hand11 = [('spade', 'J'), ('heart', 'Q'), ('diamond', '10'), ('club', 'J'), ('spade', '5')]\n",
    "\n",
    "# result\n",
    "print(calculate_niu(hand1))\n",
    "print(calculate_niu(hand2))\n",
    "print(calculate_niu(hand3))\n",
    "print(calculate_niu(hand4))\n",
    "print(calculate_niu(hand5))\n",
    "print(calculate_niu(hand6))\n",
    "print(calculate_niu(hand7))\n",
    "print(calculate_niu(hand8))\n",
    "print(calculate_niu(hand9))\n",
    "print(calculate_niu(hand10))\n",
    "print(calculate_niu(hand11))\n"
   ]
  },
  {
   "cell_type": "markdown",
   "id": "0fadd241",
   "metadata": {},
   "source": [
    "# 模擬牌型出現機率"
   ]
  },
  {
   "cell_type": "code",
   "execution_count": 45,
   "id": "28081e01",
   "metadata": {
    "ExecuteTime": {
     "end_time": "2025-02-18T07:14:03.020620Z",
     "start_time": "2025-02-18T07:14:03.005582Z"
    }
   },
   "outputs": [],
   "source": [
    "# def simulate card type rate\n",
    "def simulate_cardtype_rate(hand, num_simulations=100000):\n",
    "    # generate poker deck\n",
    "    suits = ['spade', 'heart', 'diamond', 'club']\n",
    "    ranks = [str(i) for i in range(2, 11)] + ['J', 'Q', 'K', 'A']\n",
    "    deck = [(suit, rank) for suit in suits for rank in ranks]\n",
    "\n",
    "    # remove cards already in hand\n",
    "    for card in hand:\n",
    "        deck.remove(card)\n",
    "\n",
    "    results = Counter()\n",
    "    for _ in range(num_simulations):\n",
    "        # random choose a card\n",
    "        remaining_card = random.choice(deck)\n",
    "        final_hand = hand + [remaining_card]\n",
    "        # only want to know card type\n",
    "        card_type, _ = calculate_niu(final_hand)\n",
    "        results[card_type] += 1\n",
    "\n",
    "    total = sum(results.values())\n",
    "    probabilities = {k: v / total for k, v in results.items()}\n",
    "    sorted_probabilities = dict(sorted(probabilities.items(), key=lambda item: item[1], reverse=True))\n",
    "    return sorted_probabilities\n"
   ]
  },
  {
   "cell_type": "markdown",
   "id": "44639472",
   "metadata": {},
   "source": [
    "## 確認機率情況"
   ]
  },
  {
   "cell_type": "code",
   "execution_count": 46,
   "id": "4ca1327d",
   "metadata": {
    "ExecuteTime": {
     "end_time": "2025-02-18T07:14:05.592973Z",
     "start_time": "2025-02-18T07:14:03.681369Z"
    }
   },
   "outputs": [
    {
     "data": {
      "text/plain": [
       "{'有公無牛': 0.45886, '牛5': 0.29242, '牛2': 0.08345, '牛3': 0.0829, '牛牛': 0.08237}"
      ]
     },
     "execution_count": 46,
     "metadata": {},
     "output_type": "execute_result"
    }
   ],
   "source": [
    "hand1 = [('spade', 'J'), ('heart', 'Q'), ('diamond', '3'), ('club', '2')]\n",
    "simulate_cardtype_rate(hand1)"
   ]
  },
  {
   "cell_type": "code",
   "execution_count": null,
   "id": "0502d8e4",
   "metadata": {},
   "outputs": [],
   "source": []
  },
  {
   "cell_type": "code",
   "execution_count": null,
   "id": "eaa04c92",
   "metadata": {},
   "outputs": [],
   "source": []
  },
  {
   "cell_type": "code",
   "execution_count": null,
   "id": "a8a7de8d",
   "metadata": {},
   "outputs": [],
   "source": []
  },
  {
   "cell_type": "code",
   "execution_count": null,
   "id": "afc3621f",
   "metadata": {},
   "outputs": [],
   "source": []
  },
  {
   "cell_type": "markdown",
   "id": "f84f7220",
   "metadata": {},
   "source": [
    "# 結算金額"
   ]
  },
  {
   "cell_type": "code",
   "execution_count": null,
   "id": "7dacd089",
   "metadata": {},
   "outputs": [],
   "source": [
    "def get_card_value(card):\n",
    "    \"\"\"取得牌的點數大小，K 最大 (13)，A 最小 (1)\"\"\"\n",
    "    rank_order = {'2': 2, '3': 3, '4': 4, '5': 5, '6': 6, '7': 7, '8': 8, '9': 9, '10': 10,\n",
    "                  'J': 11, 'Q': 12, 'K': 13, 'A': 1}\n",
    "    return rank_order[card[1]]\n",
    "\n",
    "def get_suit_value(card):\n",
    "    \"\"\"取得牌的花色大小，spade > heart > diamond > club\"\"\"\n",
    "    suit_order = {'spade': 4, 'heart': 3, 'diamond': 2, 'club': 1}\n",
    "    return suit_order[card[0]]\n",
    "\n",
    "def compare_highest_card(player_hand, banker_hand):\n",
    "    \"\"\"比較玩家與莊家最大的牌，先比數字，再比花色\"\"\"\n",
    "    player_hand_sorted = sorted(player_hand, key=lambda x: (get_card_value(x), get_suit_value(x)), reverse=True)\n",
    "    banker_hand_sorted = sorted(banker_hand, key=lambda x: (get_card_value(x), get_suit_value(x)), reverse=True)\n",
    "    \n",
    "    player_max_card = player_hand_sorted[0]\n",
    "    banker_max_card = banker_hand_sorted[0]\n",
    "\n",
    "    if get_card_value(player_max_card) > get_card_value(banker_max_card):\n",
    "        return \"player\"\n",
    "    elif get_card_value(player_max_card) < get_card_value(banker_max_card):\n",
    "        return \"banker\"\n",
    "    else:  # 如果點數一樣，則比花色\n",
    "        if get_suit_value(player_max_card) > get_suit_value(banker_max_card):\n",
    "            return \"player\"\n",
    "        else:\n",
    "            return \"banker\"\n",
    "\n",
    "def calculate_payout(player_type, banker_type, player_hand, banker_hand):\n",
    "    \"\"\"根據玩家和莊家的牌型與最大牌計算結算金額\"\"\"\n",
    "    rank_mult = {\n",
    "        '五小牛': 6, '五公': 5, '四花牛': 4, '牛牛': 3, '牛9': 2, '牛8': 2,\n",
    "        '牛7': 2, '牛6': 1, '牛5': 1, '牛4': 1, '牛3': 1, '牛2': 1, '牛1': 1,\n",
    "        '有公無牛': 1, '無公無牛': 2\n",
    "    }\n",
    "    rank_order = {\n",
    "        '五小牛': 15, '五公': 14, '四花牛': 13, '牛牛': 12, '牛9': 11, '牛8': 10,\n",
    "        '牛7': 9, '牛6': 8, '牛5': 7, '牛4': 6, '牛3': 5, '牛2': 4, '牛1': 3,\n",
    "        '有公無牛': 2, '無公無牛': 1\n",
    "    }\n",
    "\n",
    "    player_rank_order = rank_order[player_type]\n",
    "    banker_rank_order = rank_order[banker_type]\n",
    "    player_rank_mult = rank_mult[player_type]\n",
    "    banker_rank_mult = rank_mult[banker_type]\n",
    "\n",
    "    if player_rank_order > banker_rank_order:\n",
    "        multiplier = player_rank_mult if banker_type != '無公無牛' else player_rank_mult * 2\n",
    "        return f\"玩家贏，賠率為 {multiplier} 倍\"\n",
    "    \n",
    "    elif player_rank_order < banker_rank_order:\n",
    "        multiplier = banker_rank_mult * (-1) if player_type != '無公無牛' else banker_rank_mult * -2\n",
    "        return f\"玩家輸，賠率為 {multiplier} 倍\"\n",
    "\n",
    "    else:  # 當牌型相同時，進一步比較最大牌\n",
    "        winner = compare_highest_card(player_hand, banker_hand)\n",
    "        if winner == \"player\":\n",
    "            multiplier = player_rank_mult if banker_type != '無公無牛' else player_rank_mult * 2\n",
    "            return f\"玩家贏，賠率為 {multiplier} 倍\"\n",
    "        else:\n",
    "            multiplier = banker_rank_mult * (-1) if player_type != '無公無牛' else banker_rank_mult * -2\n",
    "            return f\"玩家輸，賠率為 {multiplier} 倍\"\n"
   ]
  },
  {
   "cell_type": "code",
   "execution_count": null,
   "id": "df59a7e5",
   "metadata": {},
   "outputs": [],
   "source": []
  },
  {
   "cell_type": "code",
   "execution_count": null,
   "id": "7037ee44",
   "metadata": {},
   "outputs": [],
   "source": []
  },
  {
   "cell_type": "code",
   "execution_count": 37,
   "id": "9e02e0d7",
   "metadata": {
    "ExecuteTime": {
     "end_time": "2025-02-18T07:10:38.946591Z",
     "start_time": "2025-02-18T07:10:38.926572Z"
    }
   },
   "outputs": [],
   "source": [
    "def calculate_payout(player_type, banker_type):\n",
    "    \"\"\"根據玩家和莊家的牌型計算結算金額\"\"\"\n",
    "    rank_mult = {\n",
    "        '五小牛': 6, '五公': 5, '四花牛': 4, '牛牛': 3, '牛9': 2, '牛8': 2,\n",
    "        '牛7': 2, '牛6': 1, '牛5': 1, '牛4': 1, '牛3': 1, '牛2': 1, '牛1': 1,\n",
    "        '有公無牛': 1, '無公無牛': 2\n",
    "    }\n",
    "    rank_order = {\n",
    "        '五小牛': 15, '五公': 14, '四花牛': 13, '牛牛': 12, '牛9': 11, '牛8': 10,\n",
    "        '牛7': 9, '牛6': 8, '牛5': 7, '牛4': 6, '牛3': 5, '牛2': 4, '牛1': 3,\n",
    "        '有公無牛': 2, '無公無牛': 1\n",
    "    }\n",
    "\n",
    "    player_rank_order = rank_order[player_type]\n",
    "    bank_rank_order = rank_order[banker_type]\n",
    "    player_rank_mult = rank_mult[player_type]\n",
    "    banker_rank_mult = rank_mult[banker_type]\n",
    "\n",
    "    if player_rank_order > bank_rank_order:\n",
    "        # 如果莊家是無公無牛，則玩家額外獲得 2 倍賠率\n",
    "        multiplier = player_rank_mult if banker_type != '無公無牛' else player_rank_mult *2\n",
    "        return f\"玩家贏，賠率為 {multiplier} 倍\"\n",
    "    \n",
    "    elif player_rank_order < bank_rank_order:\n",
    "        # 如果玩家是無公無牛，則莊家額外獲得 2 倍賠率\n",
    "        multiplier = banker_rank_mult * (-1) if player_type != '無公無牛' else banker_rank_mult *-2\n",
    "        return f\"玩家輸，賠率為 {multiplier} 倍\""
   ]
  },
  {
   "cell_type": "code",
   "execution_count": 38,
   "id": "6af9d940",
   "metadata": {
    "ExecuteTime": {
     "end_time": "2025-02-18T07:10:39.475982Z",
     "start_time": "2025-02-18T07:10:39.463430Z"
    }
   },
   "outputs": [
    {
     "data": {
      "text/plain": [
       "'玩家贏，賠率為 1 倍'"
      ]
     },
     "execution_count": 38,
     "metadata": {},
     "output_type": "execute_result"
    }
   ],
   "source": [
    "calculate_payout(\"牛2\", \"牛1\")"
   ]
  },
  {
   "cell_type": "code",
   "execution_count": null,
   "id": "4d0448c7",
   "metadata": {},
   "outputs": [],
   "source": []
  },
  {
   "cell_type": "code",
   "execution_count": null,
   "id": "767a2204",
   "metadata": {},
   "outputs": [],
   "source": []
  },
  {
   "cell_type": "markdown",
   "id": "4d94bde8",
   "metadata": {},
   "source": [
    "# 進行預估"
   ]
  },
  {
   "cell_type": "code",
   "execution_count": null,
   "id": "e8b98c06",
   "metadata": {},
   "outputs": [],
   "source": [
    "def recommend_bet(hand):\n",
    "    \"\"\"根據機率推薦下注倍率\"\"\"\n",
    "    probabilities = simulate_winrate(hand)\n",
    "\n",
    "    # 確保牌型大小排序\n",
    "    rank_order = [\n",
    "        '五小牛', '五公', '四花牛', '牛牛', '牛九', '牛八', '牛七',\n",
    "        '牛六', '牛五', '牛四', '牛三', '牛二', '牛一', '有公無牛', '無公無牛'\n",
    "    ]\n",
    "\n",
    "    # 計算高獎勵牌型的總機率\n",
    "    high_reward_types = rank_order[:7]  # 前 7 種牌型\n",
    "    high_reward_prob = sum(probabilities.get(t, 0) for t in high_reward_types)\n",
    "\n",
    "    if high_reward_prob > 0.5:\n",
    "        return \"推薦下注 5 倍，因為高獎勵機率高\"\n",
    "    elif high_reward_prob > 0.3:\n",
    "        return \"推薦下注 3 倍，風險與收益適中\"\n",
    "    else:\n",
    "        return \"推薦下注 1 倍，穩健策略\""
   ]
  },
  {
   "cell_type": "markdown",
   "id": "9e19007e",
   "metadata": {},
   "source": [
    "# 實際操作"
   ]
  },
  {
   "cell_type": "code",
   "execution_count": 41,
   "id": "4c85d142",
   "metadata": {
    "ExecuteTime": {
     "end_time": "2025-02-15T12:43:18.137355Z",
     "start_time": "2025-02-15T12:43:18.108323Z"
    }
   },
   "outputs": [
    {
     "name": "stdout",
     "output_type": "stream",
     "text": [
      "手牌為: ['J', 'J', 'Q', '10']\n"
     ]
    },
    {
     "ename": "ValueError",
     "evalue": "list.remove(x): x not in list",
     "output_type": "error",
     "traceback": [
      "\u001b[1;31m---------------------------------------------------------------------------\u001b[0m",
      "\u001b[1;31mValueError\u001b[0m                                Traceback (most recent call last)",
      "Input \u001b[1;32mIn [41]\u001b[0m, in \u001b[0;36m<cell line: 6>\u001b[1;34m()\u001b[0m\n\u001b[0;32m      3\u001b[0m \u001b[38;5;28mprint\u001b[39m(\u001b[38;5;124m\"\u001b[39m\u001b[38;5;124m手牌為:\u001b[39m\u001b[38;5;124m\"\u001b[39m, hand)\n\u001b[0;32m      5\u001b[0m \u001b[38;5;66;03m# 模擬贏率\u001b[39;00m\n\u001b[1;32m----> 6\u001b[0m probabilities \u001b[38;5;241m=\u001b[39m \u001b[43msimulate_winrate\u001b[49m\u001b[43m(\u001b[49m\u001b[43mhand\u001b[49m\u001b[43m)\u001b[49m\n\u001b[0;32m      7\u001b[0m \u001b[38;5;28mprint\u001b[39m(\u001b[38;5;124m\"\u001b[39m\u001b[38;5;124m模擬結果:\u001b[39m\u001b[38;5;124m\"\u001b[39m)\n\u001b[0;32m      8\u001b[0m \u001b[38;5;28;01mfor\u001b[39;00m card_type, prob \u001b[38;5;129;01min\u001b[39;00m probabilities\u001b[38;5;241m.\u001b[39mitems():\n",
      "Input \u001b[1;32mIn [40]\u001b[0m, in \u001b[0;36msimulate_winrate\u001b[1;34m(hand, num_simulations)\u001b[0m\n\u001b[0;32m      7\u001b[0m \u001b[38;5;66;03m# 移除手牌中的卡片\u001b[39;00m\n\u001b[0;32m      8\u001b[0m \u001b[38;5;28;01mfor\u001b[39;00m card \u001b[38;5;129;01min\u001b[39;00m hand:\n\u001b[1;32m----> 9\u001b[0m     \u001b[43mdeck\u001b[49m\u001b[38;5;241;43m.\u001b[39;49m\u001b[43mremove\u001b[49m\u001b[43m(\u001b[49m\u001b[43mcard\u001b[49m\u001b[43m)\u001b[49m\n\u001b[0;32m     11\u001b[0m results \u001b[38;5;241m=\u001b[39m Counter()\n\u001b[0;32m     12\u001b[0m \u001b[38;5;28;01mfor\u001b[39;00m _ \u001b[38;5;129;01min\u001b[39;00m \u001b[38;5;28mrange\u001b[39m(num_simulations):\n",
      "\u001b[1;31mValueError\u001b[0m: list.remove(x): x not in list"
     ]
    }
   ],
   "source": [
    "\n",
    "# 假設手牌\n",
    "hand = ['J', 'J', 'Q', '10']\n",
    "print(\"手牌為:\", hand)\n",
    "\n",
    "# 模擬贏率\n",
    "probabilities = simulate_winrate(hand)\n",
    "print(\"模擬結果:\")\n",
    "for card_type, prob in probabilities.items():\n",
    "    print(f\"{card_type}: {prob * 100:.2f}%\")\n"
   ]
  },
  {
   "cell_type": "code",
   "execution_count": null,
   "id": "dc84ebca",
   "metadata": {},
   "outputs": [],
   "source": []
  },
  {
   "cell_type": "code",
   "execution_count": 131,
   "id": "03f3633b",
   "metadata": {
    "ExecuteTime": {
     "end_time": "2025-01-28T19:32:56.541370Z",
     "start_time": "2025-01-28T19:32:56.212298Z"
    }
   },
   "outputs": [
    {
     "name": "stdout",
     "output_type": "stream",
     "text": [
      "手牌為: ['1', 'J', '3', '10']\n",
      "模擬結果:\n",
      "牛4: 29.26%\n",
      "無公無牛: 45.58%\n",
      "牛1: 8.50%\n",
      "牛牛: 8.06%\n",
      "牛3: 8.60%\n",
      "下注建議: 推薦下注 1 倍，穩健策略\n",
      "搶莊建議: 推薦搶莊 1 倍\n",
      "結算結果: 玩家輸，賠率為 1 倍\n"
     ]
    }
   ],
   "source": [
    "def recommend_bet(hand):\n",
    "    \"\"\"根據機率推薦下注倍率\"\"\"\n",
    "    probabilities = simulate_winrate(hand)\n",
    "\n",
    "    # 確保牌型大小排序\n",
    "    rank_order = [\n",
    "        '五小牛', '五公', '四花牛', '牛牛', '牛九', '牛八', '牛七',\n",
    "        '牛六', '牛五', '牛四', '牛三', '牛二', '牛一', '有公無牛', '無公無牛'\n",
    "    ]\n",
    "\n",
    "    # 計算高獎勵牌型的總機率\n",
    "    high_reward_types = rank_order[:7]  # 前 7 種牌型\n",
    "    high_reward_prob = sum(probabilities.get(t, 0) for t in high_reward_types)\n",
    "\n",
    "    if high_reward_prob > 0.5:\n",
    "        return \"推薦下注 5 倍，因為高獎勵機率高\"\n",
    "    elif high_reward_prob > 0.3:\n",
    "        return \"推薦下注 3 倍，風險與收益適中\"\n",
    "    else:\n",
    "        return \"推薦下注 1 倍，穩健策略\"\n",
    "\n",
    "def recommend_banker_bet(hand, num_simulations=10000):\n",
    "    \"\"\"根據手牌模擬是否應該搶莊以及搶莊倍數\"\"\"\n",
    "    deck = [str(i) for i in range(1, 11)] + ['J', 'Q', 'K']\n",
    "    deck *= 4\n",
    "\n",
    "    # 移除手牌中的卡片\n",
    "    for card in hand:\n",
    "        deck.remove(card)\n",
    "\n",
    "    win_counts = {1: 0, 2: 0, 3: 0, 4: 0}\n",
    "\n",
    "    for _ in range(num_simulations):\n",
    "        # 模擬其他玩家的手牌\n",
    "        other_hands = [random.sample(deck, 5) for _ in range(3)]\n",
    "\n",
    "        # 計算其他玩家的最佳牌型\n",
    "        other_types = [calculate_niu(hand)[0] for hand in other_hands]\n",
    "\n",
    "        # 判斷當前玩家的牌型\n",
    "        final_hand = hand + [random.choice(deck)]\n",
    "        player_type, _ = calculate_niu(final_hand)\n",
    "\n",
    "        # 模擬莊家的勝率\n",
    "        for multiple in [1, 2, 3, 4]:\n",
    "            if all(player_type >= t for t in other_types):\n",
    "                win_counts[multiple] += 1\n",
    "\n",
    "    # 決定最適合的搶莊倍數\n",
    "    best_multiple = max(win_counts, key=win_counts.get)\n",
    "    return f\"推薦搶莊 {best_multiple} 倍\"\n",
    "\n",
    "# 使用示例\n",
    "if __name__ == \"__main__\":\n",
    "    # 假設手牌\n",
    "    hand = ['1', 'J', '3', '10']\n",
    "    print(\"手牌為:\", hand)\n",
    "\n",
    "    # 模擬贏率\n",
    "    probabilities = simulate_winrate(hand)\n",
    "    print(\"模擬結果:\")\n",
    "    for card_type, prob in probabilities.items():\n",
    "        print(f\"{card_type}: {prob * 100:.2f}%\")\n",
    "\n",
    "    # 推薦下注策略\n",
    "    recommendation = recommend_bet(hand)\n",
    "    print(\"下注建議:\", recommendation)\n",
    "\n",
    "    # 推薦搶莊策略\n",
    "    banker_recommendation = recommend_banker_bet(hand)\n",
    "    print(\"搶莊建議:\", banker_recommendation)\n",
    "\n",
    "    # 結算範例\n",
    "    player_type = '牛九'\n",
    "    banker_type = '牛牛'\n",
    "    payout = calculate_payout(player_type, banker_type)\n",
    "    print(f\"結算結果: {payout}\")\n"
   ]
  },
  {
   "cell_type": "code",
   "execution_count": null,
   "id": "5490ec1d",
   "metadata": {},
   "outputs": [],
   "source": []
  },
  {
   "cell_type": "code",
   "execution_count": 17,
   "id": "5c23be50",
   "metadata": {
    "ExecuteTime": {
     "end_time": "2025-02-14T14:50:38.714536Z",
     "start_time": "2025-02-14T14:50:38.688465Z"
    }
   },
   "outputs": [
    {
     "name": "stdout",
     "output_type": "stream",
     "text": [
      "([('spade', 'K'), ('heart', 'Q'), ('diamond', 'J'), ('club', '10'), ('spade', '6')], '牛6')\n",
      "('不可出現重複手牌', None)\n",
      "([('spade', 'K'), ('heart', 'Q'), ('diamond', 'J'), ('club', '10'), ('spade', '6')], '牛6')\n"
     ]
    }
   ],
   "source": [
    "\n",
    "\n",
    "\n",
    "def compare_hands(hand1, hand2):\n",
    "    \"\"\"比較兩手牌的大小，返回獲勝手牌\"\"\"\n",
    "    # 檢查兩手牌是否有重複的牌\n",
    "    if not set(hand1).isdisjoint(set(hand2)):  # 如果 hand1 和 hand2 之間有交集\n",
    "        return \"不可出現重複手牌\", None\n",
    "    \n",
    "    type1 = calculate_niu(hand1)[0]\n",
    "    type2 = calculate_niu(hand2)[0]\n",
    "    \n",
    "    rank_order = [\n",
    "        '五小牛', '五公', '四花牛', '牛牛', '牛9', '牛8', '牛7',\n",
    "        '牛6', '牛5', '牛4', '牛3', '牛2', '牛1', '有公無牛', '無公無牛'\n",
    "    ]\n",
    "    \n",
    "    if rank_order.index(type1) < rank_order.index(type2):\n",
    "        return hand1, type1\n",
    "    elif rank_order.index(type1) > rank_order.index(type2):\n",
    "        return hand2, type2\n",
    "    elif rank_order.index(type1) == rank_order.index(type2):\n",
    "        # 兩手牌的牌型相同時，先比較最前面那張牌的 rank 再比較花色\n",
    "        hand1_sorted = sorted(hand1, key=lambda x: (card_rank(x), card_suit_value(x)), reverse=True)\n",
    "        hand2_sorted = sorted(hand2, key=lambda x: (card_rank(x), card_suit_value(x)), reverse=True)\n",
    "\n",
    "        for card1, card2 in zip(hand1_sorted, hand2_sorted):\n",
    "            if card_rank(card1) > card_rank(card2):\n",
    "                return hand1, type1\n",
    "            elif card_rank(card1) < card_rank(card2):\n",
    "                return hand2, type2\n",
    "            else:\n",
    "                if card_suit_value(card1) > card_suit_value(card2):\n",
    "                    return hand1, type1\n",
    "                elif card_suit_value(card1) < card_suit_value(card2):\n",
    "                    return hand2, type2\n",
    "        return hand1, type1  # 如果所有牌相同，返回手牌1\n",
    "\n",
    "# 測試比較兩手牌\n",
    "if __name__ == \"__main__\":\n",
    "    hand1 = [('spade', '8'), ('heart', '5'), ('diamond', '5'), ('club', '8'), ('heart', 'K')]\n",
    "    hand2 = [('spade', 'K'), ('heart', 'Q'), ('diamond', 'J'), ('club', '10'), ('spade', '6')]\n",
    "    print(compare_hands(hand1, hand2))\n",
    "    \n",
    "    # 測試有重複牌的情況 (兩手牌有重複的牌)\n",
    "    hand3 = [('spade', '8'), ('heart', '5'), ('diamond', '5'), ('club', '8'), ('spade', '10')]\n",
    "    hand4 = [('spade', '8'), ('heart', '5'), ('diamond', '5'), ('club', '8'), ('spade', '10')]\n",
    "    print(compare_hands(hand3, hand4))  # 這會顯示「不可出現重複手牌」\n",
    "    \n",
    "    # 測試其中一手牌有重複\n",
    "    hand5 = [('spade', '8'), ('heart', '5'), ('diamond', '5'), ('club', '8'), ('spade', '8')]\n",
    "    print(compare_hands(hand5, hand2))  # 這會顯示「不可出現重複手牌」\n"
   ]
  },
  {
   "cell_type": "code",
   "execution_count": null,
   "id": "b7c40844",
   "metadata": {},
   "outputs": [],
   "source": []
  }
 ],
 "metadata": {
  "kernelspec": {
   "display_name": "Python 3 (ipykernel)",
   "language": "python",
   "name": "python3"
  },
  "language_info": {
   "codemirror_mode": {
    "name": "ipython",
    "version": 3
   },
   "file_extension": ".py",
   "mimetype": "text/x-python",
   "name": "python",
   "nbconvert_exporter": "python",
   "pygments_lexer": "ipython3",
   "version": "3.9.12"
  },
  "latex_envs": {
   "LaTeX_envs_menu_present": true,
   "autoclose": false,
   "autocomplete": true,
   "bibliofile": "biblio.bib",
   "cite_by": "apalike",
   "current_citInitial": 1,
   "eqLabelWithNumbers": true,
   "eqNumInitial": 1,
   "hotkeys": {
    "equation": "Ctrl-E",
    "itemize": "Ctrl-I"
   },
   "labels_anchors": false,
   "latex_user_defs": false,
   "report_style_numbering": false,
   "user_envs_cfg": false
  },
  "toc": {
   "base_numbering": 1,
   "nav_menu": {},
   "number_sections": true,
   "sideBar": true,
   "skip_h1_title": false,
   "title_cell": "Table of Contents",
   "title_sidebar": "Contents",
   "toc_cell": false,
   "toc_position": {},
   "toc_section_display": true,
   "toc_window_display": true
  },
  "varInspector": {
   "cols": {
    "lenName": 16,
    "lenType": 16,
    "lenVar": 40
   },
   "kernels_config": {
    "python": {
     "delete_cmd_postfix": "",
     "delete_cmd_prefix": "del ",
     "library": "var_list.py",
     "varRefreshCmd": "print(var_dic_list())"
    },
    "r": {
     "delete_cmd_postfix": ") ",
     "delete_cmd_prefix": "rm(",
     "library": "var_list.r",
     "varRefreshCmd": "cat(var_dic_list()) "
    }
   },
   "types_to_exclude": [
    "module",
    "function",
    "builtin_function_or_method",
    "instance",
    "_Feature"
   ],
   "window_display": false
  }
 },
 "nbformat": 4,
 "nbformat_minor": 5
}
